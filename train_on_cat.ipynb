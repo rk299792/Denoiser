{
 "cells": [
  {
   "cell_type": "code",
   "execution_count": 1,
   "id": "0cc5b943",
   "metadata": {},
   "outputs": [],
   "source": [
    "import torch\n",
    "import torch.nn as nn\n",
    "import torch.nn.functional as F\n",
    "from torch.utils.data import DataLoader, random_split, Dataset\n",
    "from torchvision import datasets, transforms\n",
    "from torchvision.io import read_image\n",
    "from model import RedCNN\n",
    "from customDataset import CatdogDataset\n",
    "import cv2\n",
    "\n",
    "import numpy as np\n",
    "import pandas as pd\n",
    "import matplotlib.pyplot as plt\n",
    "import os\n",
    "import shutil\n",
    "\n",
    "from PIL import Image\n",
    "from IPython.display import display\n",
    "import warnings\n",
    "from sklearn.preprocessing import normalize\n",
    "warnings.filterwarnings('ignore')"
   ]
  },
  {
   "cell_type": "code",
   "execution_count": 2,
   "id": "a953886d",
   "metadata": {},
   "outputs": [
    {
     "name": "stdout",
     "output_type": "stream",
     "text": [
      "True\n"
     ]
    }
   ],
   "source": [
    "gtpath=\"../catData/gt/\"\n",
    "gtfiles=[]\n",
    "for folder, subfolder, filenames in os.walk(gtpath):\n",
    "    for files in filenames:\n",
    "        gtfiles.append(files)\n",
    "        \n",
    "\n",
    "noisepath=\"../catData/noise/\"\n",
    "noisefiles=[]\n",
    "for folder, subfolder, filenames in os.walk(noisepath):\n",
    "    for files in filenames:\n",
    "        noisefiles.append(files)\n",
    "        \n",
    "#check whether both noise and gt have same files\n",
    "print(gtfiles==noisefiles)"
   ]
  },
  {
   "cell_type": "code",
   "execution_count": 3,
   "id": "a2a4a1a8",
   "metadata": {},
   "outputs": [],
   "source": [
    "catdataset= CatdogDataset(data_path=noisepath,target_path=gtpath,filenames=gtfiles)\n",
    "train_size=int(0.7*len(catdataset))\n",
    "test_size=len(catdataset)-train_size\n",
    "trainset,testset=random_split(catdataset,[train_size,test_size],generator=torch.manual_seed(42))\n"
   ]
  },
  {
   "cell_type": "code",
   "execution_count": 4,
   "id": "09c80940",
   "metadata": {},
   "outputs": [
    {
     "name": "stdout",
     "output_type": "stream",
     "text": [
      "RedCNN(\n",
      "  (conv1): Conv2d(3, 96, kernel_size=(5, 5), stride=(1, 1), padding=(2, 2))\n",
      "  (conv2): Conv2d(96, 96, kernel_size=(5, 5), stride=(1, 1), padding=(2, 2))\n",
      "  (conv3): Conv2d(96, 96, kernel_size=(5, 5), stride=(1, 1), padding=(2, 2))\n",
      "  (conv4): Conv2d(96, 96, kernel_size=(5, 5), stride=(1, 1), padding=(2, 2))\n",
      "  (d_conv1): ConvTranspose2d(96, 96, kernel_size=(5, 5), stride=(1, 1), padding=(2, 2))\n",
      "  (d_conv2): ConvTranspose2d(96, 96, kernel_size=(5, 5), stride=(1, 1), padding=(2, 2))\n",
      "  (d_conv3): ConvTranspose2d(96, 96, kernel_size=(5, 5), stride=(1, 1), padding=(2, 2))\n",
      "  (d_conv4): ConvTranspose2d(96, 96, kernel_size=(5, 5), stride=(1, 1), padding=(2, 2))\n",
      "  (d_output): ConvTranspose2d(96, 1, kernel_size=(5, 5), stride=(1, 1), padding=(2, 2))\n",
      "  (batchnorm): BatchNorm2d(96, eps=1e-05, momentum=0.1, affine=True, track_running_stats=True)\n",
      ")\n"
     ]
    }
   ],
   "source": [
    "model=RedCNN()\n",
    "print(model)\n",
    "criterion=nn.MSELoss()\n",
    "optimizer = torch.optim.Adam(model.parameters(), lr=0.0001)"
   ]
  },
  {
   "cell_type": "code",
   "execution_count": 5,
   "id": "9a993fa8",
   "metadata": {},
   "outputs": [
    {
     "name": "stdout",
     "output_type": "stream",
     "text": [
      "Epoch: 1 Loss:849.6525268554688 Batch:0\n",
      "Epoch: 1 Loss:445.1080322265625 Batch:10\n",
      "Epoch: 1 Loss:329.1041564941406 Batch:20\n",
      "Epoch: 1 Loss:282.9747009277344 Batch:30\n",
      "Epoch: 1 Loss:278.25848388671875 Batch:40\n",
      "Epoch: 1 Loss:268.8425598144531 Batch:50\n",
      "Epoch: 1 Loss:254.30479431152344 Batch:60\n",
      "Epoch: 1 Loss:261.08843994140625 Batch:70\n",
      "Epoch: 1 Loss:264.8851623535156 Batch:80\n",
      "Epoch: 1 Loss:259.65899658203125 Batch:90\n",
      "Epoch: 1 Loss:261.24163818359375 Batch:100\n",
      "Epoch: 1 Loss:250.15689086914062 Batch:110\n",
      "Epoch: 1 Loss:246.88502502441406 Batch:120\n",
      "Epoch: 1 Loss:257.6952209472656 Batch:130\n",
      "Epoch: 1 Loss:244.6479034423828 Batch:140\n",
      "Epoch: 1 Loss:251.62303161621094 Batch:150\n",
      "Epoch: 1 Loss:253.82138061523438 Batch:160\n",
      "Epoch: 1 Loss:240.46334838867188 Batch:170\n",
      "Epoch: 1 Loss:244.2457275390625 Batch:180\n"
     ]
    }
   ],
   "source": [
    "##Training\n",
    "optimizer.zero_grad()\n",
    "\n",
    "train_loader = DataLoader(trainset, batch_size=32, shuffle=True)\n",
    "test_loader = DataLoader(testset, batch_size=32, shuffle=True)\n",
    "\n",
    "\n",
    "losses_batch=[]\n",
    "trained_psnr=[]\n",
    "for i, data in enumerate(train_loader):\n",
    "\n",
    "    inputt, target=data\n",
    "\n",
    "    target_pred=model(inputt)\n",
    "\n",
    "    img=inputt.detach().numpy()\n",
    "    recon_image=target_pred.detach().numpy()\n",
    "    for j in range(len(target)):\n",
    "        trained_psnr.append(cv2.PSNR(img[j],recon_image[j]))\n",
    "\n",
    "    loss=criterion(target_pred,target)\n",
    "    losses_batch.append(loss.item())\n",
    "    optimizer.zero_grad()\n",
    "    loss.backward()\n",
    "    optimizer.step()\n",
    "    if (i%10==0):\n",
    "        print(f\"Epoch: 1 Loss:{loss.item()} Batch:{i}\")\n",
    "\n",
    "\n"
   ]
  },
  {
   "cell_type": "code",
   "execution_count": 6,
   "id": "7105e740",
   "metadata": {},
   "outputs": [],
   "source": [
    "fisher_dict={}\n",
    "param_dict={}\n",
    "            \n",
    "for name, param in model.named_parameters():\n",
    "    param_dict[name] = param.data.clone()\n",
    "    fisher_dict[name] = param.grad.data.clone().pow(2)\n",
    "\n",
    "param_dictfile=\"parameter_dict.pth.tar\"\n",
    "fisher_dictfile=\"fisher_dict.pth.tar\"\n",
    "\n",
    "torch.save(fisher_dict,fisher_dictfile)\n",
    "torch.save(param_dict,param_dictfile)\n",
    "modelfile=\"trained_on_cat_130batch.pth.tar\"\n",
    "\n",
    "torch.save(model.state_dict(),modelfile)"
   ]
  },
  {
   "cell_type": "code",
   "execution_count": 7,
   "id": "51f18a0e",
   "metadata": {},
   "outputs": [
    {
     "data": {
      "text/plain": [
       "<All keys matched successfully>"
      ]
     },
     "execution_count": 7,
     "metadata": {},
     "output_type": "execute_result"
    }
   ],
   "source": [
    "model=RedCNN()\n",
    "\n",
    "model.load_state_dict(torch.load(modelfile))"
   ]
  },
  {
   "cell_type": "code",
   "execution_count": 8,
   "id": "0166b894",
   "metadata": {},
   "outputs": [],
   "source": [
    "# gt_psnr=[]\n",
    "# train_psnr=[]\n",
    "# for i in range(len(trainset)):\n",
    "#     noise,gt=trainset[i]\n",
    "#     gt_psnr.append(cv2.PSNR(noise.numpy(),gt.numpy()))\n",
    "# #     train_psnr.append(cv2.PSNR(model(noise.view(-1,3,224,224)).detach().numpy().reshape(3,224,224),gt.numpy()))\n",
    "    \n",
    "# print(f\"Ground Truth PSNR(trainset): {sum(gt_psnr)/len(gt_psnr)}\")\n",
    "# print(f\"PSNR after training: {sum(trained_psnr)/len(trained_psnr)}\")"
   ]
  },
  {
   "cell_type": "code",
   "execution_count": null,
   "id": "cdd65b55",
   "metadata": {},
   "outputs": [],
   "source": []
  },
  {
   "cell_type": "code",
   "execution_count": null,
   "id": "df239c0f",
   "metadata": {},
   "outputs": [],
   "source": []
  },
  {
   "cell_type": "code",
   "execution_count": null,
   "id": "97dc7528",
   "metadata": {},
   "outputs": [],
   "source": []
  }
 ],
 "metadata": {
  "kernelspec": {
   "display_name": "Python 3 (ipykernel)",
   "language": "python",
   "name": "python3"
  },
  "language_info": {
   "codemirror_mode": {
    "name": "ipython",
    "version": 3
   },
   "file_extension": ".py",
   "mimetype": "text/x-python",
   "name": "python",
   "nbconvert_exporter": "python",
   "pygments_lexer": "ipython3",
   "version": "3.9.12"
  }
 },
 "nbformat": 4,
 "nbformat_minor": 5
}
